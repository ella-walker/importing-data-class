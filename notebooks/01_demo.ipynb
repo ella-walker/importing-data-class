{
 "cells": [
  {
   "cell_type": "markdown",
   "id": "76c1aee9",
   "metadata": {},
   "source": [
    "# In-class Demo: Importing Data\n",
    "\n",
    "This notebook demonstrates reading a variety of data sources into Python using Pandas.\n"
   ]
  },
  {
   "cell_type": "code",
   "execution_count": 1,
   "id": "0c1ee27a",
   "metadata": {},
   "outputs": [
    {
     "name": "stdout",
     "output_type": "stream",
     "text": [
      "DATA = /Users/ellawalker/Documents/STAT 386/In Class Labs/importing-data-class/data/demo\n"
     ]
    }
   ],
   "source": [
    "from pathlib import Path\n",
    "import pandas as pd, json\n",
    "BASE = Path().resolve().parents[0] if (Path().resolve().name == \"notebooks\") else Path().resolve()\n",
    "DATA = BASE / \"data\" / \"demo\"\n",
    "print(\"DATA =\", DATA)"
   ]
  },
  {
   "cell_type": "code",
   "execution_count": 9,
   "id": "5589cd40",
   "metadata": {},
   "outputs": [
    {
     "name": "stdout",
     "output_type": "stream",
     "text": [
      "   id               name major   gpa  grad_year\n",
      "0   1       Ada Lovelace    CS  3.90       1843\n",
      "1   2        Alan Turing  Math  3.80       1934\n",
      "2   3       Grace Hopper  EECS  3.95       1930\n",
      "3   4    Edsger Dijkstra  Math  3.70       1956\n",
      "4   5  Katherine Johnson  Math  3.92       1937\n",
      "id       int64\n",
      "name    object\n",
      "dtype: object\n",
      "   id               name\n",
      "0   1       Ada Lovelace\n",
      "1   2        Alan Turing\n",
      "2   3       Grace Hopper\n",
      "3   4    Edsger Dijkstra\n",
      "4   5  Katherine Johnson\n"
     ]
    }
   ],
   "source": [
    "# --- CSV\n",
    "csv_path = DATA / \"csv\" / \"students.csv\"\n",
    "df_csv = pd.read_csv(csv_path)\n",
    "print(df_csv.head())\n",
    "# Common args: sep, header, index_col, nrows, encoding, usecols, dtype, compression\n",
    "df_subset = pd.read_csv(csv_path, usecols=[\"id\",\"name\"], dtype={\"id\":\"int64\"})\n",
    "print(df_subset.dtypes)\n",
    "print(df_subset.head())"
   ]
  },
  {
   "cell_type": "code",
   "execution_count": 3,
   "id": "f896dd87",
   "metadata": {},
   "outputs": [
    {
     "name": "stdout",
     "output_type": "stream",
     "text": [
      "  order_id        date product  quantity  price\n",
      "0     A001  2024-01-05  Widget         3  19.99\n",
      "1     A002  2024-01-06  Gadget         1  29.50\n",
      "2     A003  2024-01-06  Widget         2  19.99\n",
      "3     A004  2024-01-07  Doodad         5   3.75\n",
      "4     A005  2024-01-08  Widget         1  19.99\n"
     ]
    }
   ],
   "source": [
    "# --- TSV (tab-delimited)\n",
    "tsv_path = DATA / \"tsv\" / \"sales.tsv\"\n",
    "df_tsv = pd.read_csv(tsv_path, sep=\"\\t\")\n",
    "print(df_tsv.head())"
   ]
  },
  {
   "cell_type": "code",
   "execution_count": 4,
   "id": "22564fef",
   "metadata": {},
   "outputs": [
    {
     "name": "stdout",
     "output_type": "stream",
     "text": [
      "   id               name major   gpa  grad_year\n",
      "0   1       Ada Lovelace    CS  3.90       1843\n",
      "1   2        Alan Turing  Math  3.80       1934\n",
      "2   3       Grace Hopper  EECS  3.95       1930\n",
      "3   4    Edsger Dijkstra  Math  3.70       1956\n",
      "4   5  Katherine Johnson  Math  3.92       1937\n"
     ]
    }
   ],
   "source": [
    "# --- Compressed CSV (gzip)\n",
    "gz_path = DATA / \"csv_gz\" / \"students.csv.gz\"\n",
    "df_gz = pd.read_csv(gz_path, compression=\"gzip\")\n",
    "print(df_gz.head())"
   ]
  },
  {
   "cell_type": "code",
   "execution_count": 10,
   "id": "9e50c134",
   "metadata": {},
   "outputs": [
    {
     "name": "stdout",
     "output_type": "stream",
     "text": [
      "   id               name  midterm  final\n",
      "0   1       Ada Lovelace       95     98\n",
      "1   2        Alan Turing       88     90\n",
      "2   3       Grace Hopper       99    100\n",
      "3   4    Edsger Dijkstra       84     86\n",
      "4   5  Katherine Johnson       97     99\n",
      "Sheets: ['Grades', 'Advisors']\n"
     ]
    }
   ],
   "source": [
    "# --- Excel (may require 'openpyxl')\n",
    "excel_path = DATA / \"excel\" / \"grades.xlsx\"\n",
    "try:\n",
    "    df_excel = pd.read_excel(excel_path)  # default: first sheet\n",
    "    print(df_excel.head())\n",
    "    all_sheets = pd.read_excel(excel_path, sheet_name=None)\n",
    "    print(\"Sheets:\", list(all_sheets))\n",
    "except Exception as e:\n",
    "    print(\"Excel read failed:\", e)"
   ]
  },
  {
   "cell_type": "code",
   "execution_count": 12,
   "id": "8b3f2cb0",
   "metadata": {},
   "outputs": [
    {
     "name": "stdout",
     "output_type": "stream",
     "text": [
      "[{'name': 'John', 'age': 30, 'city': 'New York'}, {'name': 'Jane', 'age': 27, 'city': 'Chicago'}, {'name': 'Carlos', 'age': 35, 'city': 'Austin'}]\n",
      "[{'order_id': 'A100', 'customer': {'id': 1, 'name': 'Alice'}, 'items': [{'sku': 'WID-001', 'qty': 2, 'price': 9.99}, {'sku': 'GAD-010', 'qty': 1, 'price': 29.5}], 'shipping': {'city': 'Boston', 'state': 'MA'}}, {'order_id': 'A101', 'customer': {'id': 2, 'name': 'Bob'}, 'items': [{'sku': 'WID-001', 'qty': 1, 'price': 9.99}, {'sku': 'DD-404', 'qty': 5, 'price': 3.75}], 'shipping': {'city': 'Seattle', 'state': 'WA'}}]\n",
      "       sku  qty  price order_id customer.id customer.name\n",
      "0  WID-001    2   9.99     A100           1         Alice\n",
      "1  GAD-010    1  29.50     A100           1         Alice\n",
      "2  WID-001    1   9.99     A101           2           Bob\n",
      "3   DD-404    5   3.75     A101           2           Bob\n"
     ]
    }
   ],
   "source": [
    "import json\n",
    "from pandas import json_normalize\n",
    "\n",
    "# --- JSON (flat)\n",
    "people_path = DATA / \"json\" / \"people.json\"\n",
    "with open(people_path, \"r\", encoding=\"utf-8\") as f:\n",
    "    people = json.load(f)\n",
    "print(people)\n",
    "\n",
    "# --- JSON (nested) with json_normalize\n",
    "nested_path = DATA / \"json\" / \"orders_nested.json\"\n",
    "with open(nested_path, \"r\", encoding=\"utf-8\") as f:\n",
    "    orders = json.load(f)\n",
    "print(orders)\n",
    "\n",
    "flat = json_normalize(orders, record_path=\"items\", meta=[\"order_id\", [\"customer\",\"id\"], [\"customer\",\"name\"]])\n",
    "print(flat.head())"
   ]
  },
  {
   "cell_type": "code",
   "execution_count": 11,
   "id": "61fcf112",
   "metadata": {},
   "outputs": [
    {
     "name": "stdout",
     "output_type": "stream",
     "text": [
      "['If data be the food of thought, import on;', 'Give me excess of files, that, surfeiting,']\n",
      "line count: 4\n"
     ]
    }
   ],
   "source": [
    "# --- Plain text with context manager\n",
    "poem_path = DATA / \"text\" / \"poem.txt\"\n",
    "with open(poem_path, \"r\", encoding=\"utf-8\") as f:\n",
    "    text = f.read()\n",
    "print(text.splitlines()[:2])  # first 2 lines\n",
    "with open(poem_path, \"r\", encoding=\"utf-8\") as f:\n",
    "    lines = f.readlines()\n",
    "print(\"line count:\", len(lines))"
   ]
  },
  {
   "cell_type": "code",
   "execution_count": 8,
   "id": "40b3ec71",
   "metadata": {},
   "outputs": [
    {
     "name": "stdout",
     "output_type": "stream",
     "text": [
      "Number of tables: 2\n"
     ]
    },
    {
     "data": {
      "text/html": [
       "<div>\n",
       "<style scoped>\n",
       "    .dataframe tbody tr th:only-of-type {\n",
       "        vertical-align: middle;\n",
       "    }\n",
       "\n",
       "    .dataframe tbody tr th {\n",
       "        vertical-align: top;\n",
       "    }\n",
       "\n",
       "    .dataframe thead th {\n",
       "        text-align: right;\n",
       "    }\n",
       "</style>\n",
       "<table border=\"1\" class=\"dataframe\">\n",
       "  <thead>\n",
       "    <tr style=\"text-align: right;\">\n",
       "      <th></th>\n",
       "      <th>city</th>\n",
       "      <th>country</th>\n",
       "      <th>pop_millions</th>\n",
       "    </tr>\n",
       "  </thead>\n",
       "  <tbody>\n",
       "    <tr>\n",
       "      <th>0</th>\n",
       "      <td>New York</td>\n",
       "      <td>USA</td>\n",
       "      <td>8.8</td>\n",
       "    </tr>\n",
       "    <tr>\n",
       "      <th>1</th>\n",
       "      <td>Chicago</td>\n",
       "      <td>USA</td>\n",
       "      <td>2.7</td>\n",
       "    </tr>\n",
       "    <tr>\n",
       "      <th>2</th>\n",
       "      <td>Austin</td>\n",
       "      <td>USA</td>\n",
       "      <td>1.0</td>\n",
       "    </tr>\n",
       "  </tbody>\n",
       "</table>\n",
       "</div>"
      ],
      "text/plain": [
       "       city country  pop_millions\n",
       "0  New York     USA           8.8\n",
       "1   Chicago     USA           2.7\n",
       "2    Austin     USA           1.0"
      ]
     },
     "execution_count": 8,
     "metadata": {},
     "output_type": "execute_result"
    }
   ],
   "source": [
    "# --- HTML tables (requires lxml)\n",
    "html_path = DATA / \"html\" / \"tables.html\"\n",
    "tables = pd.read_html(str(html_path))  # returns a list of DataFrames\n",
    "print(\"Number of tables:\", len(tables))\n",
    "tables[0].head()"
   ]
  }
 ],
 "metadata": {
  "kernelspec": {
   "display_name": "importing-data-class",
   "language": "python",
   "name": "python3"
  },
  "language_info": {
   "codemirror_mode": {
    "name": "ipython",
    "version": 3
   },
   "file_extension": ".py",
   "mimetype": "text/x-python",
   "name": "python",
   "nbconvert_exporter": "python",
   "pygments_lexer": "ipython3",
   "version": "3.13.7"
  }
 },
 "nbformat": 4,
 "nbformat_minor": 5
}
